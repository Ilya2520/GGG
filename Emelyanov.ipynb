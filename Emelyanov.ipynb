{
  "cells": [
    {
      "cell_type": "markdown",
      "metadata": {
        "id": "view-in-github",
        "colab_type": "text"
      },
      "source": [
        "<a href=\"https://colab.research.google.com/github/Ilya2520/GGG/blob/main/Emelyanov.ipynb\" target=\"_parent\"><img src=\"https://colab.research.google.com/assets/colab-badge.svg\" alt=\"Open In Colab\"/></a>"
      ]
    },
    {
      "cell_type": "markdown",
      "id": "431af463",
      "metadata": {
        "id": "431af463"
      },
      "source": [
        "# 1.2 Пример\n"
      ]
    },
    {
      "cell_type": "code",
      "execution_count": null,
      "id": "e366d2e5",
      "metadata": {
        "id": "e366d2e5"
      },
      "outputs": [],
      "source": [
        "x=3+5.2*7\n",
        "y=None\n",
        "z='a',5,12.345, (2,'b')\n",
        "df =[['Антонова Антонина',34,'ж'],['Борисов Борис', 26,'м']]\n",
        "A={1,'title',2,'content'}"
      ]
    },
    {
      "cell_type": "code",
      "execution_count": null,
      "id": "15b7440f",
      "metadata": {
        "id": "15b7440f",
        "outputId": "185851b3-c071-4c2e-c2e7-eb1542873a51"
      },
      "outputs": [
        {
          "name": "stdout",
          "output_type": "stream",
          "text": [
            "39.4 | <class 'float'> \n",
            " None | <class 'NoneType'> \n",
            " ('a', 5, 12.345, (2, 'b')) | <class 'tuple'> \n",
            " [['Антонова Антонина', 34, 'ж'], ['Борисов Борис', 26, 'м']] | <class 'list'> \n",
            " {1, 2, 'title', 'content'} | <class 'set'>\n"
          ]
        }
      ],
      "source": [
        "print(x,'|',type(x),'\\n',y,'|',type(y),'\\n',\n",
        "     z,'|',type(z),'\\n',df,'|',type(df),'\\n',A,'|',type(A))"
      ]
    },
    {
      "cell_type": "markdown",
      "id": "1dd03244",
      "metadata": {
        "id": "1dd03244"
      },
      "source": [
        "# 1.3 Задание"
      ]
    },
    {
      "cell_type": "code",
      "execution_count": null,
      "id": "d6f8d290",
      "metadata": {
        "id": "d6f8d290"
      },
      "outputs": [],
      "source": [
        "x=5>=2\n",
        "A={1,3,7,8}\n",
        "B={2,4,5,10,'apple'}\n",
        "C=A&B\n",
        "df='Антонова Антонина', 34,'ж'\n",
        "z='type'\n",
        "D=[1, 'title',2,'content']"
      ]
    },
    {
      "cell_type": "code",
      "execution_count": null,
      "id": "69c8cae5",
      "metadata": {
        "id": "69c8cae5",
        "outputId": "f547ba75-0af2-4f0b-aedd-9761b6670e88"
      },
      "outputs": [
        {
          "name": "stdout",
          "output_type": "stream",
          "text": [
            "True | <class 'bool'> \n",
            " {8, 1, 3, 7} | <class 'set'> \n",
            " {2, 4, 5, 'apple', 10} | <class 'set'> \n",
            " set() | <class 'set'> \n",
            " ('Антонова Антонина', 34, 'ж') | <class 'tuple'> \n",
            " type | <class 'str'> \n",
            " [1, 'title', 2, 'content'] | <class 'list'>\n"
          ]
        }
      ],
      "source": [
        "print(x,'|',type(x),'\\n',A,'|',type(A),'\\n',\n",
        "     B,'|',type(B),'\\n',C,'|',type(C),'\\n'\n",
        "      ,df,'|',type(df),'\\n',z,'|',type(z),'\\n',D,'|',type(D))"
      ]
    },
    {
      "cell_type": "markdown",
      "id": "11e3b277",
      "metadata": {
        "id": "11e3b277"
      },
      "source": [
        "# 2.2 Пример"
      ]
    },
    {
      "cell_type": "markdown",
      "id": "1ef9971e",
      "metadata": {
        "id": "1ef9971e"
      },
      "source": [
        "Вывести на экран является ли переменная х положительной,\n",
        "отрицательной или равна нулю"
      ]
    },
    {
      "cell_type": "code",
      "execution_count": null,
      "id": "5279e58a",
      "metadata": {
        "id": "5279e58a",
        "outputId": "799d06ef-e73d-44ef-d9ff-44b10835d576"
      },
      "outputs": [
        {
          "name": "stdout",
          "output_type": "stream",
          "text": [
            "x положительный\n"
          ]
        }
      ],
      "source": [
        "x=125\n",
        "if x<0:\n",
        "    print(\"x Отрицательный\")\n",
        "elif x==0:\n",
        "    print(\"x равен нулю\")\n",
        "else:\n",
        "    print(\"x положительный\")"
      ]
    },
    {
      "cell_type": "markdown",
      "id": "435dd661",
      "metadata": {
        "id": "435dd661"
      },
      "source": [
        "\n",
        "# 2.3 Задание"
      ]
    },
    {
      "cell_type": "markdown",
      "id": "aedcedf5",
      "metadata": {
        "id": "aedcedf5"
      },
      "source": [
        "Напишите код. Задается х, напечатать какому из интервалов\n",
        "принадлежит: (-infinity, -5), [-5, 5] или от (5, +infinity)"
      ]
    },
    {
      "cell_type": "code",
      "execution_count": null,
      "id": "fa1dfb32",
      "metadata": {
        "id": "fa1dfb32",
        "outputId": "9bad39f6-a42b-4e8b-8bb7-add902d13742"
      },
      "outputs": [
        {
          "name": "stdout",
          "output_type": "stream",
          "text": [
            "x принадлежит (-5,5)\n"
          ]
        }
      ],
      "source": [
        "x=125\n",
        "if(x<-5):\n",
        "    print(\"x принадлежит (-Inf,-5)\")\n",
        "elif x>5:\n",
        "    print(\"x принадлежит (-5,5)\")\n",
        "else:\n",
        "    print(\"x принадлежит (5,inf)\")"
      ]
    },
    {
      "cell_type": "markdown",
      "id": "927ab3c7",
      "metadata": {
        "id": "927ab3c7"
      },
      "source": [
        "# 3.2.1. Пример"
      ]
    },
    {
      "cell_type": "markdown",
      "id": "7002ada2",
      "metadata": {
        "id": "7002ada2"
      },
      "source": [
        "Вывести все числа от 1 до 10 с шагом 3."
      ]
    },
    {
      "cell_type": "code",
      "execution_count": null,
      "id": "e9d4788b",
      "metadata": {
        "id": "e9d4788b",
        "outputId": "07ecb6f1-9fb2-4556-bf6a-6951495b9e8a"
      },
      "outputs": [
        {
          "name": "stdout",
          "output_type": "stream",
          "text": [
            "1\n",
            "4\n",
            "7\n",
            "10\n"
          ]
        }
      ],
      "source": [
        "x=1\n",
        "while x<=10:\n",
        "    print(x)\n",
        "    x+=3"
      ]
    },
    {
      "cell_type": "markdown",
      "id": "aa355055",
      "metadata": {
        "id": "aa355055"
      },
      "source": [
        "# 3.2.2. Пример"
      ]
    },
    {
      "cell_type": "markdown",
      "id": "338f9cdf",
      "metadata": {
        "id": "338f9cdf"
      },
      "source": [
        "Задан список. Напечатать все элементы списка."
      ]
    },
    {
      "cell_type": "code",
      "execution_count": null,
      "id": "b9d25c5d",
      "metadata": {
        "id": "b9d25c5d",
        "outputId": "4f07c021-3224-481b-db8f-b01a96b56c38"
      },
      "outputs": [
        {
          "name": "stdout",
          "output_type": "stream",
          "text": [
            "KNN\n",
            "decision tree\n",
            "linear model\n"
          ]
        }
      ],
      "source": [
        "models = ['KNN','decision tree','linear model']\n",
        "for model in models:\n",
        "    print(model)"
      ]
    },
    {
      "cell_type": "markdown",
      "id": "7e089581",
      "metadata": {
        "id": "7e089581"
      },
      "source": [
        "# 3.2.3. Пример"
      ]
    },
    {
      "cell_type": "markdown",
      "id": "fa1d219d",
      "metadata": {
        "id": "fa1d219d"
      },
      "source": [
        "Создать список от 1 до 99 с шагом 7."
      ]
    },
    {
      "cell_type": "code",
      "execution_count": null,
      "id": "355d0342",
      "metadata": {
        "colab": {
          "base_uri": "https://localhost:8080/"
        },
        "id": "355d0342",
        "outputId": "d40b08f4-71f0-4fe1-fb51-e9558a884a68"
      },
      "outputs": [
        {
          "output_type": "stream",
          "name": "stdout",
          "text": [
            "[1, 8, 15, 22, 29, 36, 43, 50, 57, 64, 71, 78, 85, 92, 99]\n"
          ]
        }
      ],
      "source": [
        "list_int = range(1, 100, 7)\n",
        "print(list(list_int))"
      ]
    },
    {
      "cell_type": "markdown",
      "id": "1228cda9",
      "metadata": {
        "id": "1228cda9"
      },
      "source": [
        "# 3.2.4. Пример"
      ]
    },
    {
      "cell_type": "markdown",
      "id": "0c47a57e",
      "metadata": {
        "id": "0c47a57e"
      },
      "source": [
        "Вывести на экран числа от 1 до 105 с шагом 25, используя функцию\n",
        "range()"
      ]
    },
    {
      "cell_type": "code",
      "execution_count": null,
      "id": "9dbd043c",
      "metadata": {
        "colab": {
          "base_uri": "https://localhost:8080/"
        },
        "id": "9dbd043c",
        "outputId": "40e3e775-3930-4fda-d866-39d32b21c3f5"
      },
      "outputs": [
        {
          "output_type": "stream",
          "name": "stdout",
          "text": [
            "5\n",
            "30\n",
            "55\n",
            "80\n",
            "105\n"
          ]
        }
      ],
      "source": [
        "for i in range(5,106,25):\n",
        "    print(i)"
      ]
    },
    {
      "cell_type": "markdown",
      "id": "40dc8029",
      "metadata": {
        "id": "40dc8029"
      },
      "source": [
        "# 3.2.5. Пример"
      ]
    },
    {
      "cell_type": "markdown",
      "id": "1884ec07",
      "metadata": {
        "id": "1884ec07"
      },
      "source": [
        "Срез. Необходимо получить каждый k-й элемент массива a, начиная с\n",
        "элемента с индексом i (включительно) и заканчивая элементом с\n",
        "индексом j (не включительно), c шагом 2. Или переставить все\n",
        "элементы в обратном порядке."
      ]
    },
    {
      "cell_type": "code",
      "execution_count": null,
      "id": "20f7fc66",
      "metadata": {
        "id": "20f7fc66"
      },
      "outputs": [],
      "source": [
        "a=[1,2,3,4,5,6,7,8,9]\n",
        "b=a[1:7:2]\n",
        "c=a[::-1]\n",
        "print(b)\n",
        "print(c)"
      ]
    },
    {
      "cell_type": "markdown",
      "id": "51bc4960",
      "metadata": {
        "id": "51bc4960"
      },
      "source": [
        "# 3.3.1 Задание"
      ]
    },
    {
      "cell_type": "code",
      "execution_count": null,
      "id": "51bd579f",
      "metadata": {
        "id": "51bd579f"
      },
      "outputs": [],
      "source": [
        "Выведите числа из примера на while (3.2.1) в обратном порядке.\n"
      ]
    },
    {
      "cell_type": "code",
      "execution_count": null,
      "id": "448e51ec",
      "metadata": {
        "id": "448e51ec"
      },
      "outputs": [],
      "source": [
        "x=10\n",
        "while x>=0:\n",
        "    print(x)\n",
        "    x-=3\n"
      ]
    },
    {
      "cell_type": "markdown",
      "id": "5a7743de",
      "metadata": {
        "id": "5a7743de"
      },
      "source": [
        "# 3.3.2 Задание"
      ]
    },
    {
      "cell_type": "markdown",
      "id": "1b8040e6",
      "metadata": {
        "id": "1b8040e6"
      },
      "source": [
        "При решении задач машинного обучения часто в качестве объектов\n",
        "исследования выступает человек. Создайте список значимых\n",
        "характеристик (признаков), идентифицирующих человека. Выведите\n",
        "список на экран."
      ]
    },
    {
      "cell_type": "code",
      "execution_count": null,
      "id": "668f8fd4",
      "metadata": {
        "id": "668f8fd4"
      },
      "outputs": [],
      "source": [
        "list = ['Age','Weight','Height']\n",
        "for people in list:\n",
        "    print(people)"
      ]
    },
    {
      "cell_type": "markdown",
      "id": "22c5739d",
      "metadata": {
        "id": "22c5739d"
      },
      "source": [
        "# 3.3.3 Задание"
      ]
    },
    {
      "cell_type": "code",
      "execution_count": null,
      "id": "8e3d1a43",
      "metadata": {
        "id": "8e3d1a43"
      },
      "outputs": [],
      "source": [
        "lst = range(2, 16, 1)\n",
        "print(list(lst))\n"
      ]
    },
    {
      "cell_type": "markdown",
      "id": "aa805652",
      "metadata": {
        "id": "aa805652"
      },
      "source": [
        "# 3.3.4 Задание"
      ]
    },
    {
      "cell_type": "markdown",
      "id": "efe62eb1",
      "metadata": {
        "id": "efe62eb1"
      },
      "source": [
        "Выведите числа из примера на for c функцией range() (3.2.4) в\n",
        "обратном порядке."
      ]
    },
    {
      "cell_type": "code",
      "execution_count": null,
      "id": "a671a536",
      "metadata": {
        "id": "a671a536"
      },
      "outputs": [],
      "source": [
        "for i in range(106,5,-25):\n",
        "    print(i)"
      ]
    },
    {
      "cell_type": "markdown",
      "id": "a22b1acd",
      "metadata": {
        "id": "a22b1acd"
      },
      "source": [
        "# 3.3.5 Задание"
      ]
    },
    {
      "cell_type": "markdown",
      "id": "d2f482a0",
      "metadata": {
        "id": "d2f482a0"
      },
      "source": [
        "Срез. Напишите код, который все элементы массива x с четными\n",
        "индексами переставит в обратном порядке. Т.е. если x = [0, 1, 2, 3, 4,\n",
        "5, 6, 7, 8, 9], то код должен сформировать [8, 1, 6, 3, 4, 5, 2, 7, 0, 9]."
      ]
    },
    {
      "cell_type": "code",
      "execution_count": null,
      "id": "c458b68b",
      "metadata": {
        "id": "c458b68b"
      },
      "outputs": [],
      "source": [
        "x=[0,1,2,3,4,5,6,7,8,9]\n",
        "x[::2]=reversed(x[::2])\n",
        "print(x)"
      ]
    },
    {
      "cell_type": "markdown",
      "id": "f36a5580",
      "metadata": {
        "id": "f36a5580"
      },
      "source": [
        "# 4.2.1 Пример"
      ]
    },
    {
      "cell_type": "markdown",
      "id": "8711340b",
      "metadata": {
        "id": "8711340b"
      },
      "source": [
        "Рассчитать синус от е радиан и вывести результат на экран\n"
      ]
    },
    {
      "cell_type": "code",
      "execution_count": null,
      "id": "7d60176b",
      "metadata": {
        "id": "7d60176b",
        "outputId": "311ed6bd-6efc-4043-ee63-6293c423ad0f"
      },
      "outputs": [
        {
          "name": "stdout",
          "output_type": "stream",
          "text": [
            "0.41078129050290885\n"
          ]
        }
      ],
      "source": [
        "import math as m\n",
        "print(m.sin (m.e))"
      ]
    },
    {
      "cell_type": "markdown",
      "id": "6a014fea",
      "metadata": {
        "id": "6a014fea"
      },
      "source": [
        "# 4.2.2 Пример"
      ]
    },
    {
      "cell_type": "markdown",
      "id": "509fee28",
      "metadata": {
        "id": "509fee28"
      },
      "source": [
        "Для функции sin(𝑥𝑒\n",
        "cos(𝑥)\n",
        ") на интервале [0;10] с шагом 0,05 построить\n",
        "график функции, закрасить площадь под ним и вычислить значение\n",
        "этой площади.\n",
        "Для вычисления площади воспользуйте функции trapz(), вычисляющей\n",
        "интеграл по правилу трапеции. Для ее корректной работы необходимо\n",
        "подключить следующие библиотеки:\n",
        "from scipy.integrate import simps\n",
        "from numpy import trapz\n"
      ]
    },
    {
      "cell_type": "code",
      "execution_count": null,
      "id": "b0309f35",
      "metadata": {
        "id": "b0309f35",
        "outputId": "19dfd1da-9198-44ed-cafd-47138cfe2eba"
      },
      "outputs": [
        {
          "name": "stdout",
          "output_type": "stream",
          "text": [
            "73.50792907748662\n"
          ]
        },
        {
          "data": {
            "image/png": "[encoded data removed]",
            "text/plain": [
              "<Figure size 640x480 with 1 Axes>"
            ]
          },
          "metadata": {},
          "output_type": "display_data"
        }
      ],
      "source": [
        "import numpy as np\n",
        "import matplotlib.pyplot as plt\n",
        "from scipy.integrate import simps\n",
        "from numpy import trapz\n",
        "x=np.arange(0.0,10,0.1)\n",
        "y =np.abs(np.sin(x*np.exp(np.cos(x))))\n",
        "plt.grid()\n",
        "plt.plot(x,y,c=\"r\")\n",
        "plt.fill_between(x,y)\n",
        "area = trapz(y)\n",
        "print(area)"
      ]
    },
    {
      "cell_type": "markdown",
      "id": "fdee637d",
      "metadata": {
        "id": "fdee637d"
      },
      "source": [
        "# 4.2.3 Пример"
      ]
    },
    {
      "cell_type": "markdown",
      "id": "ac28625f",
      "metadata": {
        "id": "ac28625f"
      },
      "source": [
        "Дано некоторое распределение оценок в группе за экзамен. Нарисовать\n",
        "круговую и точечную диаграммы распределения. "
      ]
    },
    {
      "cell_type": "code",
      "execution_count": null,
      "id": "af3f3949",
      "metadata": {
        "id": "af3f3949",
        "outputId": "c9b05b7d-c239-459d-ec59-380585bd0562"
      },
      "outputs": [
        {
          "data": {
            "image/png": "[encoded data removed]",
            "text/plain": [
              "<Figure size 1000x700 with 1 Axes>"
            ]
          },
          "metadata": {},
          "output_type": "display_data"
        },
        {
          "data": {
            "text/plain": [
              "<matplotlib.collections.PathCollection at 0x28deec50df0>"
            ]
          },
          "execution_count": 91,
          "metadata": {},
          "output_type": "execute_result"
        },
        {
          "data": {
            "image/png": "[encoded data removed]",
            "text/plain": [
              "<Figure size 640x480 with 1 Axes>"
            ]
          },
          "metadata": {},
          "output_type": "display_data"
        }
      ],
      "source": [
        "from matplotlib import pyplot as plt\n",
        "import numpy as np\n",
        "\n",
        "marks = ['Неуд', 'Удовл', 'Хор', 'Отл']\n",
        "data = [3,7,8,4]\n",
        "fig= plt.figure(figsize=(10,7))\n",
        "plt.pie(data,labels=marks)\n",
        "plt.show()\n",
        "plt.grid()\n",
        "plt.scatter(marks, data)"
      ]
    },
    {
      "cell_type": "markdown",
      "id": "d7fa1be6",
      "metadata": {
        "id": "d7fa1be6"
      },
      "source": [
        "# 4.3.1 Задание"
      ]
    },
    {
      "cell_type": "markdown",
      "id": "bd3ba85e",
      "metadata": {
        "id": "bd3ba85e"
      },
      "source": [
        "Задайте массив случайных значений из интервала(0; 1).\n",
        "Рассчитайте средние и медианные значения для массива, сравните\n",
        "результаты, какие выводы можно сделать о значениях?\n",
        "Постройте точечную диаграмму рассения полученного ряда."
      ]
    },
    {
      "cell_type": "code",
      "execution_count": null,
      "id": "94502a51",
      "metadata": {
        "id": "94502a51",
        "outputId": "f6f9ef65-9872-4432-fb57-385085bc9a38"
      },
      "outputs": [
        {
          "name": "stdout",
          "output_type": "stream",
          "text": [
            "0.42934683677952484\n",
            "0.5022907372898825\n"
          ]
        },
        {
          "data": {
            "image/png": "[encoded data removed]",
            "text/plain": [
              "<Figure size 640x480 with 1 Axes>"
            ]
          },
          "metadata": {},
          "output_type": "display_data"
        }
      ],
      "source": [
        "import random as rand\n",
        "import matplotlib.pyplot as plt\n",
        "\n",
        "x = []\n",
        "y = []\n",
        "rand.seed()\n",
        "for i in range(0, 10):\n",
        "    x.append(rand.random())\n",
        "    y.append(i)\n",
        "plt.grid()\n",
        "plt.scatter(y, x)\n",
        "print(sum(x) / len(x))\n",
        "print(sorted(x)[len(x) // 2])"
      ]
    },
    {
      "cell_type": "markdown",
      "id": "1427416d",
      "metadata": {
        "id": "1427416d"
      },
      "source": [
        "# 4.3.2 Задание"
      ]
    },
    {
      "cell_type": "markdown",
      "id": "ceb95abe",
      "metadata": {
        "id": "ceb95abe"
      },
      "source": [
        "Дана функция\n",
        "Создать массив из 10 значений\n",
        "функции (𝑥, например, изменяется от 1 до 10). Выделить срез первой\n",
        "половины массива и построить графики для основного массива –\n",
        "линейный и для среза – точечный\n"
      ]
    },
    {
      "cell_type": "code",
      "execution_count": null,
      "id": "aaec6d8f",
      "metadata": {
        "colab": {
          "base_uri": "https://localhost:8080/",
          "height": 536
        },
        "id": "aaec6d8f",
        "outputId": "69357a2a-21eb-435d-a862-4710dd2af7ea"
      },
      "outputs": [
        {
          "output_type": "display_data",
          "data": {
            "text/plain": [
              "<Figure size 432x288 with 1 Axes>"
            ],
            "image/png": "[encoded data removed]"
          },
          "metadata": {
            "needs_background": "light"
          }
        },
        {
          "output_type": "execute_result",
          "data": {
            "text/plain": [
              "<matplotlib.collections.PathCollection at 0x7fe8982356d0>"
            ]
          },
          "metadata": {},
          "execution_count": 4
        },
        {
          "output_type": "display_data",
          "data": {
            "text/plain": [
              "<Figure size 432x288 with 1 Axes>"
            ],
            "image/png": "[encoded data removed]"
          },
          "metadata": {
            "needs_background": "light"
          }
        }
      ],
      "source": [
        "import math as m\n",
        "import matplotlib.pyplot as plt\n",
        "\n",
        "def func(x):\n",
        "    a = m.sqrt(1 + m.exp(m.sqrt(x)) + m.cos(x))\n",
        "    b = abs(1 - m.sin(x)**3)\n",
        "    return a/b\n",
        "\n",
        "y = []\n",
        "x = []\n",
        "for i in range(1, 11):\n",
        "    y.append(func(i))\n",
        "    x.append(i)\n",
        "plt.grid()\n",
        "plt.plot(x, y, c = \"r\")\n",
        "plt.fill_between(x, y)\n",
        "plt.show()\n",
        "plt.grid()\n",
        "plt.scatter(x[:5:1], y[:5:1])"
      ]
    },
    {
      "cell_type": "markdown",
      "id": "84228c01",
      "metadata": {
        "id": "84228c01"
      },
      "source": [
        "# 4.3.3 Задание"
      ]
    },
    {
      "cell_type": "markdown",
      "id": "0bccb5c8",
      "metadata": {
        "id": "0bccb5c8"
      },
      "source": [
        "Дана функция |cos(𝑥𝑒\n",
        "(cos(𝑥)+ln(𝑥+1))\n",
        ")| Построить график на\n",
        "интервале (0,10) с шагом 1 с заливкой площади и найти эту площадь\n",
        "под ним. Для вычисления площади воспользуйте функции trapz(),\n",
        "вычисляющей интеграл по правилу трапеции.\n",
        "Для ее корректной работы необходимо подключить следующие\n",
        "библиотеки:\n",
        "from scipy.integrate import simps\n",
        "from numpy import trapz\n"
      ]
    },
    {
      "cell_type": "code",
      "execution_count": null,
      "id": "78e7fe79",
      "metadata": {
        "id": "78e7fe79",
        "outputId": "a8a9e390-f153-4211-9df8-e263f935baf4"
      },
      "outputs": [
        {
          "name": "stdout",
          "output_type": "stream",
          "text": [
            "6.260345875494747\n"
          ]
        },
        {
          "data": {
            "image/png": "[encoded data removed]",
            "text/plain": [
              "<Figure size 640x480 with 1 Axes>"
            ]
          },
          "metadata": {},
          "output_type": "display_data"
        }
      ],
      "source": [
        "from scipy.integrate import simps\n",
        "from numpy import trapz\n",
        "import math as m\n",
        "import numpy as np\n",
        "import matplotlib.pyplot as plt\n",
        "x = np.arange(0, 10, 1)\n",
        "y = np.abs(abs(np.cos(x*np.exp((np.cos(x) + np.log(x+1))))))\n",
        "plt.grid()\n",
        "plt.plot(x, y, c = \"r\")\n",
        "plt.fill_between(x, y)\n",
        "area = trapz(y)\n",
        "print(area)"
      ]
    },
    {
      "cell_type": "markdown",
      "id": "593da273",
      "metadata": {
        "id": "593da273"
      },
      "source": [
        "# 4.3.4 Задание"
      ]
    },
    {
      "cell_type": "markdown",
      "id": "f5188497",
      "metadata": {
        "id": "f5188497"
      },
      "source": [
        "Откройте статистические данные по стоимости акций Apple,\n",
        "Microsoft, Google за 12 месяцев 2021 г. Постройте 3 графика на\n",
        "плоскости и оцените их динамику. Подумайте, как можно улучшить\n",
        "читаемость результатов.\n",
        "Для начальных данных допустимо использовать следующий ресурс:\n",
        "https://finance.yahoo.com"
      ]
    },
    {
      "cell_type": "code",
      "execution_count": null,
      "id": "1cdaa11f",
      "metadata": {
        "id": "1cdaa11f",
        "outputId": "116bf73b-2372-4972-dd5f-191cb5dea821"
      },
      "outputs": [
        {
          "data": {
            "image/png": "[encoded data removed]",
            "text/plain": [
              "<Figure size 640x480 with 1 Axes>"
            ]
          },
          "metadata": {},
          "output_type": "display_data"
        }
      ],
      "source": [
        "import numpy as np\n",
        "import matplotlib.pyplot as plt\n",
        "x = np.arange(0, 12, 1)\n",
        "y = np.array([161.84, 147.87, 139.14, 141.5, 145.52, 137.27, 123.54, 122.77, 123, 116.36, 120.99, 126.66])\n",
        "y2 = np.array([319.91, 329.37, 283.11, 281.92, 284.82, 271.6, 245.71, 239, 242.35, 226.73, 228.99, 212.25])\n",
        "y3 = np.array([2832.360, 2849.040, 2675.300, 2665.310, 2719.790, 2527.370, 2404.610, 2239.080, 2137.750, 2024.170, 1901.350, 1728.240])\n",
        "plt.plot(x,y, label = \"Apple\")\n",
        "plt.plot(x,y2, label = \"Microsoft\")\n",
        "plt.plot(x,y3, label = \"Google\")\n",
        "plt.legend()\n",
        "plt.show()"
      ]
    },
    {
      "cell_type": "markdown",
      "id": "47ea304f",
      "metadata": {
        "id": "47ea304f"
      },
      "source": [
        "# 4.3.5 Задание"
      ]
    },
    {
      "cell_type": "markdown",
      "id": "6914e9a1",
      "metadata": {
        "id": "6914e9a1"
      },
      "source": [
        "Создайте простейший калькулятор, включающий основные действия\n",
        "для двух переменных ′ + ′, ′ − ′, ′ ∙ ′, ′ ÷ ′, а также вычисление\n",
        "следующих функций: 𝑒\n",
        "𝑥+𝑦\n",
        ", sin(𝑥 + 𝑦) , cos(𝑥 + 𝑦) , 𝑥\n",
        "𝑦\n",
        "."
      ]
    },
    {
      "cell_type": "code",
      "execution_count": 5,
      "id": "5d7118fc",
      "metadata": {
        "id": "5d7118fc",
        "outputId": "0acd7140-d198-4fb5-9ed2-d2d8f7c477e3",
        "colab": {
          "base_uri": "https://localhost:8080/"
        }
      },
      "outputs": [
        {
          "output_type": "stream",
          "name": "stdout",
          "text": [
            "10\n",
            "8\n",
            "1. x+y\n",
            "2. x-y\n",
            "3. x*y\n",
            "4. x/y\n",
            "5. e^(x+y)\n",
            "6. sin(x+y)\n",
            "7. cos(x+y)\n",
            "8. x^y\n",
            "Число: 1\n",
            "10 + 8 = 18\n"
          ]
        }
      ],
      "source": [
        "import math\n",
        "x, y = int(input()), int(input())\n",
        "n = int(input('1. x+y\\n2. x-y\\n3. x*y\\n4. x/y\\n5. e^(x+y)\\n6. sin(x+y)\\n7. cos(x+y)\\n8. x^y\\nЧисло: '))\n",
        "if n== 1:\n",
        "  print(f'{x} + {y} = {x+y}')\n",
        "elif n==2:\n",
        "  print(f'{x} - {y} = {x-y}')\n",
        "elif n==3:\n",
        "    print(f'{x} * {y} = {x*y}')\n",
        "elif n== 4:\n",
        "  try:\n",
        "    print(f'{x} / {y} = {x/y}')\n",
        "  except ZeroDivisionError:\n",
        "    print(f'{x} разделить на {y} нельзя!')\n",
        "elif n== 5:\n",
        "  print(f'e^({x} + {y}) = {math.e**(x+y)}')\n",
        "elif n== 6:\n",
        "  print(f'sin({x} + {y}) = {math.sin(x+y)}')\n",
        "elif n== 7:\n",
        "  print(f'cos({x} + {y}) = {math.cos(x+y)}')\n",
        "elif n== 8:\n",
        "  print(f'{x}^{y} = {x**y}')"
      ]
    },
    {
      "cell_type": "code",
      "execution_count": null,
      "id": "c982ef0a",
      "metadata": {
        "id": "c982ef0a"
      },
      "outputs": [],
      "source": []
    }
  ],
  "metadata": {
    "kernelspec": {
      "display_name": "Python 3 (ipykernel)",
      "language": "python",
      "name": "python3"
    },
    "language_info": {
      "codemirror_mode": {
        "name": "ipython",
        "version": 3
      },
      "file_extension": ".py",
      "mimetype": "text/x-python",
      "name": "python",
      "nbconvert_exporter": "python",
      "pygments_lexer": "ipython3",
      "version": "3.9.13"
    },
    "colab": {
      "provenance": [],
      "include_colab_link": true
    }
  },
  "nbformat": 4,
  "nbformat_minor": 5
}